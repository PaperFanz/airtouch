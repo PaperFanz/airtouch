{
 "cells": [
  {
   "cell_type": "code",
   "execution_count": null,
   "metadata": {},
   "outputs": [],
   "source": [
    "from keras.preprocessing.image import ImageDataGenerator\n",
    "from keras.callbacks import EarlyStopping, ModelCheckpoint\n",
    "from keras.layers import Conv2D, MaxPooling2D, Dropout, Dense, Flatten\n",
    "from keras.models import Sequential\n",
    "\n",
    "%matplotlib inline\n",
    "import matplotlib.pyplot as plt\n",
    "\n",
    "import numpy as np"
   ]
  },
  {
   "cell_type": "code",
   "execution_count": 2,
   "metadata": {},
   "outputs": [],
   "source": [
    "batch_size = 128\n",
    "\n",
    "train_datagen = ImageDataGenerator( \n",
    "    rescale=1./255,\n",
    "    rotation_range=10.,\n",
    "    width_shift_range=0.1,\n",
    "    height_shift_range=0.1,\n",
    "    zoom_range=0.2,\n",
    "    horizontal_flip=True\n",
    ")\n",
    "\n",
    "test_datagen = ImageDataGenerator(rescale=1./255)\n",
    "\n",
    "train_gen = train_datagen.flow_from_directory(\n",
    "    'fingers/train/',\n",
    "    target_size=(128, 128),\n",
    "    color_mode='grayscale',\n",
    "    batch_size=batch_size,\n",
    "    classes=['zero', 'one', 'two', 'three', 'four', 'five'],\n",
    "    class_mode='categorical'\n",
    ")\n",
    "\n",
    "test_gen = test_datagen.flow_from_directory(\n",
    "    'fingers/test/',\n",
    "    target_size=(128, 128),\n",
    "    color_mode='grayscale',\n",
    "    batch_size=batch_size,\n",
    "    classes=['zero', 'one', 'two', 'three', 'four', 'five'],\n",
    "    class_mode='categorical'\n",
    ")"
   ]
  },
  {
   "cell_type": "code",
   "execution_count": 3,
   "metadata": {},
   "outputs": [],
   "source": [
    "pathTrain = \"data/train/*\"\n",
    "pathTest = \"data/test/*\"\n",
    "NUMBER_OF_CLASSES = 6\n",
    "BATCH_SIZE = 32\n",
    "EPOCHS = 5\n",
    "\n",
    "indice_to_label = {0:\"0\", 1:\"1\", 2:\"2\", 3:\"3\", 4:\"4\", 5:\"5\"}\n",
    "label_to_indice = {v:k for k,v in indice_to_label.items()}"
   ]
  },
  {
   "cell_type": "code",
   "execution_count": 4,
   "metadata": {},
   "outputs": [],
   "source": [
    "import cv2\n",
    "def process_image(img,kernel):\n",
    "    img = cv2.resize(img, (128, 128))\n",
    "    img = cv2.GaussianBlur(img,(5,5),0)\n",
    "    _,img = cv2.threshold(img,80,255,cv2.THRESH_BINARY)\n",
    "    \n",
    "    im_floodfill = img.copy()\n",
    "    h, w = img.shape[:2]\n",
    "    mask = np.zeros((h+2, w+2), np.uint8)\n",
    "    cv2.floodFill(im_floodfill, mask, (0,0), 255)\n",
    "    im_floodfill_inv = cv2.bitwise_not(im_floodfill)\n",
    "    img = img | im_floodfill_inv\n",
    "    \n",
    "    \n",
    "    img = img/255\n",
    "    return img\n",
    "\n",
    "def img_to_sample(img, kernel = None):\n",
    "    img = img.astype(np.uint8)\n",
    "    img = np.reshape(img, (128, 128))\n",
    "    \n",
    "    img = process_image(img, kernel)\n",
    "    \n",
    "    img = np.reshape(img, (128, 128, 1))\n",
    "    return img"
   ]
  },
  {
   "cell_type": "code",
   "execution_count": 5,
   "metadata": {},
   "outputs": [],
   "source": [
    "train_set = [(file[-6] ,img_to_sample(cv2.imread(file, 0))) for file in glob.glob(pathTrain)]\n",
    "test_set = [(file[-6] ,img_to_sample(cv2.imread(file, 0))) for file in glob.glob(pathTest)]"
   ]
  },
  {
   "cell_type": "code",
   "execution_count": 6,
   "metadata": {},
   "outputs": [],
   "source": [
    "X_Train = [t[1] for t in train_set]\n",
    "X_Train = X_Train + X_Train[0:6000]\n",
    "Y_Train = [label_to_indice[t[0]] for t in train_set]\n",
    "Y_Train = Y_Train + Y_Train[0:6000]\n",
    "\n",
    "X_Test = [t[1] for t in test_set]\n",
    "X_Test = X_Test\n",
    "Y_Test = [label_to_indice[t[0]] for t in test_set]\n",
    "Y_Test = Y_Test\n",
    "\n",
    "X_Train = np.array(X_Train)\n",
    "Y_Train = to_categorical(Y_Train, num_classes = NUMBER_OF_CLASSES)\n",
    "X_Test = np.array(X_Test)\n",
    "Y_Test = to_categorical(Y_Test, num_classes = NUMBER_OF_CLASSES)"
   ]
  },
  {
   "cell_type": "code",
   "execution_count": 7,
   "metadata": {},
   "outputs": [
    {
     "name": "stdout",
     "output_type": "stream",
     "text": [
      "(13904, 128, 128, 1)\n",
      "(13904, 6)\n",
      "(3600, 128, 128, 1)\n",
      "(3600, 6)\n"
     ]
    }
   ],
   "source": [
    "print(X_Train.shape)\n",
    "print(Y_Train.shape)\n",
    "\n",
    "print(X_Test.shape)\n",
    "print(Y_Test.shape)"
   ]
  },
  {
   "cell_type": "code",
   "execution_count": 8,
   "metadata": {},
   "outputs": [],
   "source": [
    "aug = ImageDataGenerator(\n",
    "    rotation_range=45,\n",
    "    zoom_range=0.1,\n",
    "    width_shift_range=0.05,\n",
    "    height_shift_range=0.05,\n",
    "    shear_range = 0.1,\n",
    "    horizontal_flip=False,\n",
    "    fill_mode=\"nearest\")"
   ]
  },
  {
   "cell_type": "code",
   "execution_count": 9,
   "metadata": {},
   "outputs": [
    {
     "data": {
      "image/png": "[encoded data removed]",
      "text/plain": [
       "<Figure size 1440x720 with 1 Axes>"
      ]
     },
     "metadata": {
      "needs_background": "light"
     },
     "output_type": "display_data"
    }
   ],
   "source": [
    "counts = Counter([x.argmax() for x in Y_Train])\n",
    "plt.subplots(figsize = (20,10))\n",
    "values = [k for k in counts.values()]\n",
    "labels = [k for k in counts.keys()]\n",
    "plt.bar(labels, values, align='center')\n",
    "plt.ylabel('Counts')\n",
    "plt.title('Labels')\n",
    "\n",
    "plt.show()"
   ]
  },
  {
   "cell_type": "code",
   "execution_count": 10,
   "metadata": {},
   "outputs": [],
   "source": [
    "def HandModel(input_shape):\n",
    "    \n",
    "    X_input = Input(input_shape, name = \"input_layer\")\n",
    "    \n",
    "    X = Conv2D(64, (3, 3), strides = (1, 1), activation='relu')(X_input)\n",
    "    X = BatchNormalization()(X)\n",
    "    \n",
    "    X = Conv2D(64, (3, 3), strides = (1, 1), activation='relu')(X)\n",
    "    X = BatchNormalization()(X)\n",
    "    \n",
    "    X = Conv2D(64, (5, 5), strides = (2, 2), padding=\"same\", activation='relu')(X)\n",
    "    X = BatchNormalization()(X)\n",
    "    \n",
    "    X = Dropout(0.2)(X)\n",
    "    \n",
    "    X = Conv2D(128, (3, 3), strides = (1, 1), activation='relu')(X)\n",
    "    X = BatchNormalization()(X)\n",
    "    \n",
    "    X = Conv2D(128, (3, 3), strides = (1, 1), activation='relu')(X)\n",
    "    X = BatchNormalization()(X)\n",
    "    \n",
    "    X = Conv2D(128, (5, 5), strides = (2, 2), padding=\"same\", activation='relu')(X)\n",
    "    X = BatchNormalization()(X)\n",
    "    \n",
    "    X = Dropout(0.3)(X)\n",
    "\n",
    "    X = Flatten()(X)\n",
    "    \n",
    "    X = Dense(256, activation='relu')(X)\n",
    "    X = BatchNormalization()(X)\n",
    "    \n",
    "    X = Dense(128, activation='relu')(X)\n",
    "    X = BatchNormalization()(X)\n",
    "    \n",
    "    X = Dense(128, activation='relu')(X)\n",
    "    X = BatchNormalization()(X)\n",
    "    \n",
    "    X = Dropout(0.4)(X)\n",
    "    \n",
    "    X = Dense(NUMBER_OF_CLASSES, activation='softmax', name='output_layer')(X)\n",
    "\n",
    "    model = Model(inputs = X_input, outputs = X, name='HandModel')\n",
    "\n",
    "    return model"
   ]
  },
  {
   "cell_type": "code",
   "execution_count": 11,
   "metadata": {},
   "outputs": [],
   "source": [
    "sgd = optimizers.SGD(lr=0.01, nesterov=True)"
   ]
  },
  {
   "cell_type": "code",
   "execution_count": 30,
   "metadata": {},
   "outputs": [],
   "source": [
    "model = HandModel(X_Train.shape[1:])\n",
    "model.compile(optimizer = sgd, loss = \"categorical_crossentropy\", metrics = [\"accuracy\"])\n",
    "\n",
    "with open('handmodel_fingers_architecture.json', 'w') as f:\n",
    "    f.write(model.to_json())\n",
    "    \n",
    "filename = \"handmodel_fingers_weights.hdf5\"\n",
    "checkpoint = ModelCheckpoint(filename, monitor='loss', verbose=1, save_best_only=True, mode='min')\n",
    "reduce_lr = ReduceLROnPlateau(monitor='loss', verbose=1, factor=0.5, patience=1, min_lr=0.0001, mode='min')\n",
    "earlyStopping = EarlyStopping(monitor='val_loss', verbose=1, min_delta=0, restore_best_weights = True, patience=3, mode='min')\n",
    "callbacks_list = [checkpoint, earlyStopping, reduce_lr]"
   ]
  },
  {
   "cell_type": "code",
   "execution_count": 22,
   "metadata": {},
   "outputs": [],
   "source": [
    "from tensorflow import keras\n",
    "model = keras.models.load_model(\"handmodel_fingers_model.h5\")\n",
    "# history = model.fit_generator(generator = aug.flow(X_Train, Y_Train, batch_size=BATCH_SIZE), steps_per_epoch= X_Train.shape[0] // BATCH_SIZE, validation_data=aug.flow(X_Test, Y_Test, batch_size=BATCH_SIZE), validation_steps = X_Test.shape[0] // BATCH_SIZE, epochs = 2, callbacks=callbacks_list)"
   ]
  },
  {
   "cell_type": "code",
   "execution_count": 23,
   "metadata": {},
   "outputs": [
    {
     "name": "stdout",
     "output_type": "stream",
     "text": [
      "113/113 [==============================] - 46s 411ms/step - loss: 0.0729 - accuracy: 0.9936\n",
      "Loss :  0.07286649942398071\n",
      "Accuracy : 99.36110973358154 %\n",
      "[0.07286649942398071, 0.9936110973358154]\n"
     ]
    }
   ],
   "source": [
    "ev = model.evaluate(X_Test, Y_Test)\n",
    "\n",
    "print(\"Loss : \",ev[0])\n",
    "print(\"Accuracy : {} %\".format(ev[1]*100))\n",
    "\n",
    "print(ev)"
   ]
  },
  {
   "cell_type": "code",
   "execution_count": 24,
   "metadata": {},
   "outputs": [],
   "source": [
    "#model.save('handmodel_fingers_model.h5')"
   ]
  },
  {
   "cell_type": "code",
   "execution_count": 25,
   "metadata": {},
   "outputs": [],
   "source": [
    "preds = model.predict(X_Test)\n",
    "preds = (preds > 0.5).astype(int)"
   ]
  },
  {
   "cell_type": "code",
   "execution_count": 26,
   "metadata": {},
   "outputs": [],
   "source": [
    "y_preds = [l.index(1) if 1 in l else 0 for l in preds.tolist()]\n",
    "y_true = [l.index(1) for l in Y_Test.tolist()]"
   ]
  },
  {
   "cell_type": "code",
   "execution_count": 29,
   "metadata": {},
   "outputs": [
    {
     "name": "stdout",
     "output_type": "stream",
     "text": [
      "              precision    recall  f1-score   support\n",
      "\n",
      "           0       0.99      1.00      0.99       600\n",
      "           1       1.00      0.99      1.00       600\n",
      "           2       0.99      0.99      0.99       600\n",
      "           3       0.98      0.99      0.99       600\n",
      "           4       1.00      0.98      0.99       600\n",
      "           5       1.00      1.00      1.00       600\n",
      "\n",
      "    accuracy                           0.99      3600\n",
      "   macro avg       0.99      0.99      0.99      3600\n",
      "weighted avg       0.99      0.99      0.99      3600\n",
      "\n"
     ]
    }
   ],
   "source": [
    "from sklearn.metrics import confusion_matrix, classification_report\n",
    "cm = confusion_matrix(y_true, y_preds)\n",
    "\n",
    "print(classification_report(y_true, y_preds))\n"
   ]
  },
  {
   "cell_type": "code",
   "execution_count": null,
   "metadata": {},
   "outputs": [],
   "source": []
  },
  {
   "cell_type": "code",
   "execution_count": null,
   "metadata": {},
   "outputs": [],
   "source": []
  }
 ],
 "metadata": {
  "kernelspec": {
   "display_name": "Python 3",
   "language": "python",
   "name": "python3"
  },
  "language_info": {
   "codemirror_mode": {
    "name": "ipython",
    "version": 3
   },
   "file_extension": ".py",
   "mimetype": "text/x-python",
   "name": "python",
   "nbconvert_exporter": "python",
   "pygments_lexer": "ipython3",
   "version": "3.6.9"
  }
 },
 "nbformat": 4,
 "nbformat_minor": 4
}
